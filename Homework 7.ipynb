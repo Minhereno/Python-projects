{
 "cells": [
  {
   "cell_type": "markdown",
   "metadata": {},
   "source": [
    "# Homework 7"
   ]
  },
  {
   "cell_type": "markdown",
   "metadata": {},
   "source": [
    "- Student name: Minh Tran\n"
   ]
  },
  {
   "cell_type": "markdown",
   "metadata": {},
   "source": [
    "---"
   ]
  },
  {
   "cell_type": "markdown",
   "metadata": {},
   "source": [
    "# Question 1"
   ]
  },
  {
   "cell_type": "code",
   "execution_count": 1,
   "metadata": {},
   "outputs": [],
   "source": [
    "import numpy as np\n",
    "import matplotlib.pyplot as plt"
   ]
  },
  {
   "cell_type": "code",
   "execution_count": 2,
   "metadata": {},
   "outputs": [],
   "source": [
    "def monty_hall(strategy):\n",
    "    # identify a random door with prize\n",
    "    doors = [1,2,3]\n",
    "    prize = np.random.choice(doors)\n",
    "    \n",
    "    # make a choice\n",
    "    choice = np.random.choice(doors)\n",
    "    \n",
    "    doors_with_no_prize_and_unchosen = set(doors)-set([choice,prize])\n",
    "    \n",
    "    the_door_opened_by_host = np.random.choice(list(doors_with_no_prize_and_unchosen))\n",
    "    \n",
    "    if strategy == 1: # stick with current choice\n",
    "        return prize == choice\n",
    "    \n",
    "    elif strategy == 2: # change the choice\n",
    "        new_choice = set(doors) - set([the_door_opened_by_host]) - set([choice])\n",
    "        new_choice_int = list(new_choice)[0]\n",
    "        \n",
    "        return prize == new_choice_int"
   ]
  },
  {
   "cell_type": "code",
   "execution_count": 3,
   "metadata": {},
   "outputs": [],
   "source": [
    "np.random.seed(999) #seed\n",
    "N = 500\n",
    "count_wins = 0\n",
    "results1 = []\n",
    "for i in range(N):\n",
    "    result = monty_hall(1)\n",
    "    \n",
    "    if result == True:\n",
    "        count_wins = count_wins + 1 \n",
    "    percentage1=100*count_wins/N\n",
    "    results1.append(percentage1)"
   ]
  },
  {
   "cell_type": "code",
   "execution_count": 4,
   "metadata": {},
   "outputs": [],
   "source": [
    "np.random.seed(999) #seed\n",
    "N = 500\n",
    "count_wins = 0\n",
    "results2 = []\n",
    "for i in range(N):\n",
    "    result = monty_hall(2)   \n",
    "    if result == True:\n",
    "        count_wins = count_wins + 1\n",
    "    percentage2=100*count_wins/N\n",
    "    results2.append(percentage2)"
   ]
  },
  {
   "cell_type": "code",
   "execution_count": 5,
   "metadata": {},
   "outputs": [
    {
     "data": {
      "text/plain": [
       "<matplotlib.legend.Legend at 0x10fc2b190>"
      ]
     },
     "execution_count": 5,
     "metadata": {},
     "output_type": "execute_result"
    },
    {
     "data": {
      "image/png": "[encoded data removed]",
      "text/plain": [
       "<Figure size 432x288 with 1 Axes>"
      ]
     },
     "metadata": {
      "needs_background": "light"
     },
     "output_type": "display_data"
    }
   ],
   "source": [
    "plt.plot(results1,label = \"Strategy 1\")\n",
    "plt.plot(results2, label = \"Strategy 2\")\n",
    "plt.xlabel(\"Run #\")\n",
    "plt.ylabel(\"Percentage Won\")\n",
    "plt.legend()"
   ]
  },
  {
   "cell_type": "markdown",
   "metadata": {},
   "source": [
    "---"
   ]
  },
  {
   "cell_type": "markdown",
   "metadata": {},
   "source": [
    "# Question 2"
   ]
  },
  {
   "cell_type": "code",
   "execution_count": 6,
   "metadata": {},
   "outputs": [],
   "source": [
    "def game2(choice):\n",
    "    a = [1,2,3,4,5,6]\n",
    "    dice1 = np.random.choice(a)\n",
    "    dice2 = np.random.choice(a)\n",
    "    \n",
    "    if choice == 1:\n",
    "        if (dice1+dice2)%2 == 0 and (dice1*dice2)%2 ==0: #if addition and multiplication of two dices are even\n",
    "            return True\n",
    "        else:\n",
    "            return False\n",
    "            \n",
    "    elif choice == 2:\n",
    "        if (dice1*dice2)%2 != 0: #if multiplication of two dices are odd\n",
    "            return True\n",
    "        else:\n",
    "            return False\n",
    "        \n",
    "    elif choice == 3:\n",
    "        if (dice1+dice2) > 7: #if addition of two dices are greater than 7\n",
    "            return True\n",
    "        else:\n",
    "            return False"
   ]
  },
  {
   "cell_type": "code",
   "execution_count": 7,
   "metadata": {},
   "outputs": [
    {
     "name": "stdout",
     "output_type": "stream",
     "text": [
      "Choice 1:\n",
      "24.77 %\n"
     ]
    }
   ],
   "source": [
    "np.random.seed(999)\n",
    "N = 10000\n",
    "count_wins = 0\n",
    "results1 = []\n",
    "for i in range(N):\n",
    "    result = game2(1)\n",
    "    \n",
    "    if result == True:\n",
    "        count_wins = count_wins + 1\n",
    "    percentage1=100*count_wins/N\n",
    "    results1.append(percentage1)\n",
    "print(\"Choice 1:\")\n",
    "print(percentage1,\"%\")"
   ]
  },
  {
   "cell_type": "code",
   "execution_count": 8,
   "metadata": {},
   "outputs": [
    {
     "name": "stdout",
     "output_type": "stream",
     "text": [
      "Choice 2:\n",
      "24.88 %\n"
     ]
    }
   ],
   "source": [
    "np.random.seed(999)\n",
    "N = 10000\n",
    "count_wins = 0\n",
    "results2 = []\n",
    "for i in range(N):\n",
    "    result = game2(2)\n",
    "    \n",
    "    if result == True:\n",
    "        count_wins = count_wins + 1\n",
    "    percentage2=100*count_wins/N\n",
    "    results2.append(percentage2)\n",
    "print(\"Choice 2:\")\n",
    "print(percentage2,\"%\")"
   ]
  },
  {
   "cell_type": "code",
   "execution_count": 9,
   "metadata": {},
   "outputs": [
    {
     "name": "stdout",
     "output_type": "stream",
     "text": [
      "Choice 3:\n",
      "41.98 %\n"
     ]
    }
   ],
   "source": [
    "np.random.seed(999)\n",
    "N = 10000\n",
    "count_wins = 0\n",
    "results3 = []\n",
    "for i in range(N):\n",
    "    result = game2(3)\n",
    "    \n",
    "    if result == True:\n",
    "        count_wins = count_wins + 1\n",
    "    percentage3=100*count_wins/N\n",
    "    results3.append(percentage3)\n",
    "print(\"Choice 3:\")\n",
    "print(percentage3,\"%\")"
   ]
  },
  {
   "cell_type": "code",
   "execution_count": 10,
   "metadata": {},
   "outputs": [
    {
     "data": {
      "text/plain": [
       "<matplotlib.legend.Legend at 0x10fcd2590>"
      ]
     },
     "execution_count": 10,
     "metadata": {},
     "output_type": "execute_result"
    },
    {
     "data": {
      "image/png": "[encoded data removed]",
      "text/plain": [
       "<Figure size 432x288 with 1 Axes>"
      ]
     },
     "metadata": {
      "needs_background": "light"
     },
     "output_type": "display_data"
    }
   ],
   "source": [
    "plt.plot(results1,label = \"Choice 1\")\n",
    "plt.plot(results2,label = \"Choice 2\")\n",
    "plt.plot(results3, label = \"Choice 3\")\n",
    "plt.xlabel(\"Run #\")\n",
    "plt.ylabel(\"Percentage Won\")\n",
    "plt.legend()"
   ]
  },
  {
   "cell_type": "markdown",
   "metadata": {},
   "source": [
    "Choice 3 has the higher chance to succeed"
   ]
  },
  {
   "cell_type": "markdown",
   "metadata": {},
   "source": [
    "---"
   ]
  },
  {
   "cell_type": "markdown",
   "metadata": {},
   "source": [
    "# Question 3"
   ]
  },
  {
   "cell_type": "code",
   "execution_count": 11,
   "metadata": {},
   "outputs": [],
   "source": [
    "def game3(choice):\n",
    "    a = [1,2,3,4,5,6]\n",
    "    dice1 = np.random.choice(a)\n",
    "    dice2 = np.random.choice(a)\n",
    "    b = [1,2]\n",
    "    coin1 = np.random.choice(b)\n",
    "    coin2 = np.random.choice(b)\n",
    "    coin3 = np.random.choice(b)\n",
    "    coin4 = np.random.choice(b)\n",
    "    coin5 = np.random.choice(b)\n",
    "    coin6 = np.random.choice(b)\n",
    "    \n",
    "    if choice == 1:\n",
    "        if (dice1+dice2) == (coin1+coin2+coin3+coin4+coin5+coin6): #if addition of two dices and 6 coin equal each other\n",
    "            return True\n",
    "        else:\n",
    "            return False"
   ]
  },
  {
   "cell_type": "code",
   "execution_count": 12,
   "metadata": {},
   "outputs": [
    {
     "name": "stdout",
     "output_type": "stream",
     "text": [
      "100 Runs:\n",
      "7.0 %\n"
     ]
    }
   ],
   "source": [
    "np.random.seed(999)\n",
    "N = 100\n",
    "count_wins = 0\n",
    "for i in range(N):\n",
    "    result = game3(1)\n",
    "    if result == True:\n",
    "        count_wins = count_wins + 1\n",
    "    percentage100=100*count_wins/N\n",
    "print(\"100 Runs:\")\n",
    "print(percentage100,\"%\")"
   ]
  },
  {
   "cell_type": "code",
   "execution_count": 13,
   "metadata": {},
   "outputs": [
    {
     "name": "stdout",
     "output_type": "stream",
     "text": [
      "1000 Runs:\n",
      "9.7 %\n"
     ]
    }
   ],
   "source": [
    "np.random.seed(999)\n",
    "N = 1000\n",
    "count_wins = 0\n",
    "for i in range(N):\n",
    "    result = game3(1)\n",
    "    if result == True:\n",
    "        count_wins = count_wins + 1\n",
    "    percentage1000=100*count_wins/N\n",
    "print(\"1000 Runs:\")\n",
    "print(percentage1000,\"%\")"
   ]
  },
  {
   "cell_type": "code",
   "execution_count": 14,
   "metadata": {},
   "outputs": [
    {
     "name": "stdout",
     "output_type": "stream",
     "text": [
      "10000 Runs:\n",
      "11.35 %\n"
     ]
    }
   ],
   "source": [
    "np.random.seed(999)\n",
    "N = 10000\n",
    "count_wins = 0\n",
    "for i in range(N):\n",
    "    result = game3(1)\n",
    "    if result == True:\n",
    "        count_wins = count_wins + 1\n",
    "    percentage10000=100*count_wins/N\n",
    "print(\"10000 Runs:\")\n",
    "print(percentage10000,\"%\")"
   ]
  },
  {
   "cell_type": "code",
   "execution_count": 15,
   "metadata": {},
   "outputs": [
    {
     "name": "stdout",
     "output_type": "stream",
     "text": [
      "20000 Runs:\n",
      "11.18 %\n"
     ]
    }
   ],
   "source": [
    "np.random.seed(999)\n",
    "N = 20000\n",
    "count_wins = 0\n",
    "for i in range(N):\n",
    "    result = game3(1)\n",
    "    if result == True:\n",
    "        count_wins = count_wins + 1\n",
    "    percentage20000=100*count_wins/N\n",
    "print(\"20000 Runs:\")\n",
    "print(percentage20000,\"%\")"
   ]
  },
  {
   "cell_type": "markdown",
   "metadata": {},
   "source": [
    "# Question 3 - Mean,Standard Deviation, and Confidence Interval"
   ]
  },
  {
   "cell_type": "code",
   "execution_count": 16,
   "metadata": {},
   "outputs": [
    {
     "name": "stdout",
     "output_type": "stream",
     "text": [
      "Mean: 10.99\n",
      "Std: 3.2264376640499353\n",
      "95% of the time, values will fall within: 4.666182178462127 and 17.313817821537874\n"
     ]
    },
    {
     "data": {
      "image/png": "[encoded data removed]",
      "text/plain": [
       "<Figure size 432x288 with 1 Axes>"
      ]
     },
     "metadata": {
      "needs_background": "light"
     },
     "output_type": "display_data"
    }
   ],
   "source": [
    "N = 100\n",
    "all_results_100 = []\n",
    "for j in range(100): \n",
    "    np.random.seed(j) \n",
    "    count_wins = 0\n",
    "\n",
    "    for i in range(N):\n",
    "        result = game3(1)\n",
    "        if result == True:\n",
    "            count_wins = count_wins + 1\n",
    "    percentage100=100*count_wins/N\n",
    "    all_results_100.append(percentage100)\n",
    "mean = np.mean(all_results_100)\n",
    "std = np.std(all_results_100)\n",
    "print(\"Mean:\",mean)\n",
    "print(\"Std:\", std)\n",
    "plt.hist(all_results_100)\n",
    "plt.axvline(x = mean,color = \"k\",label = \"mean\")\n",
    "plt.axvline(x = mean+(1.96*std),color = \"purple\",label = \"upperbound\")\n",
    "plt.axvline(x = mean-(1.96*std),color = \"red\",label = \"lowerbound\")\n",
    "plt.legend()\n",
    "print(\"95% of the time, values will fall within:\",mean-(1.96*std),\"and\", mean+(1.96*std))"
   ]
  },
  {
   "cell_type": "code",
   "execution_count": 17,
   "metadata": {},
   "outputs": [
    {
     "name": "stdout",
     "output_type": "stream",
     "text": [
      "Mean: 10.873999999999999\n",
      "Std: 0.9644293649614781\n",
      "95% of the time, values will fall within: 8.983718444675501 and 12.764281555324496\n"
     ]
    },
    {
     "data": {
      "image/png": "[encoded data removed]",
      "text/plain": [
       "<Figure size 432x288 with 1 Axes>"
      ]
     },
     "metadata": {
      "needs_background": "light"
     },
     "output_type": "display_data"
    }
   ],
   "source": [
    "N = 1000\n",
    "all_results_1000 = []\n",
    "for j in range(100): \n",
    "    np.random.seed(j) \n",
    "    count_wins = 0\n",
    "\n",
    "    for i in range(N):\n",
    "        result = game3(1)\n",
    "        if result == True:\n",
    "            count_wins = count_wins + 1\n",
    "    percentage1000=100*count_wins/N\n",
    "    all_results_1000.append(percentage1000)\n",
    "mean = np.mean(all_results_1000)\n",
    "std = np.std(all_results_1000)\n",
    "print(\"Mean:\",mean)\n",
    "print(\"Std:\", std)\n",
    "plt.hist(all_results_1000)\n",
    "plt.axvline(x = mean,color = \"k\",label = \"mean\")\n",
    "plt.axvline(x = mean+(1.96*std),color = \"purple\",label = \"upperbound\")\n",
    "plt.axvline(x = mean-(1.96*std),color = \"red\",label = \"lowerbound\")\n",
    "plt.legend()\n",
    "print(\"95% of the time, values will fall within:\",mean-(1.96*std),\"and\", mean+(1.96*std))"
   ]
  },
  {
   "cell_type": "code",
   "execution_count": 18,
   "metadata": {},
   "outputs": [
    {
     "name": "stdout",
     "output_type": "stream",
     "text": [
      "Mean: 11.0712\n",
      "Std: 0.291291194511609\n",
      "95% of the time, values will fall within: 10.500269258757246 and 11.642130741242752\n"
     ]
    },
    {
     "data": {
      "image/png": "[encoded data removed]",
      "text/plain": [
       "<Figure size 432x288 with 1 Axes>"
      ]
     },
     "metadata": {
      "needs_background": "light"
     },
     "output_type": "display_data"
    }
   ],
   "source": [
    "N = 10000\n",
    "all_results_10000 = []\n",
    "for j in range(100): \n",
    "    np.random.seed(j) \n",
    "    count_wins = 0\n",
    "\n",
    "    for i in range(N):\n",
    "        result = game3(1)\n",
    "        if result == True:\n",
    "            count_wins = count_wins + 1\n",
    "    percentage10000=100*count_wins/N\n",
    "    all_results_10000.append(percentage10000)\n",
    "mean = np.mean(all_results_10000)\n",
    "std = np.std(all_results_10000)\n",
    "print(\"Mean:\",mean)\n",
    "print(\"Std:\", std)\n",
    "plt.hist(all_results_10000)\n",
    "plt.axvline(x = mean,color = \"k\",label = \"mean\")\n",
    "plt.axvline(x = mean+(1.96*std),color = \"purple\",label = \"upperbound\")\n",
    "plt.axvline(x = mean-(1.96*std),color = \"red\",label = \"lowerbound\")\n",
    "plt.legend()\n",
    "print(\"95% of the time, values will fall within:\",mean-(1.96*std),\"and\", mean+(1.96*std))"
   ]
  },
  {
   "cell_type": "code",
   "execution_count": 19,
   "metadata": {},
   "outputs": [
    {
     "name": "stdout",
     "output_type": "stream",
     "text": [
      "Mean: 11.04945\n",
      "Std: 0.2401113231399136\n",
      "95% of the time, values will fall within: 10.57883180664577 and 11.52006819335423\n"
     ]
    },
    {
     "data": {
      "image/png": "[encoded data removed]",
      "text/plain": [
       "<Figure size 432x288 with 1 Axes>"
      ]
     },
     "metadata": {
      "needs_background": "light"
     },
     "output_type": "display_data"
    }
   ],
   "source": [
    "N = 20000\n",
    "all_results_20000 = []\n",
    "for j in range(100): \n",
    "    np.random.seed(j) \n",
    "    count_wins = 0\n",
    "\n",
    "    for i in range(N):\n",
    "        result = game3(1)\n",
    "        if result == True:\n",
    "            count_wins = count_wins + 1\n",
    "    percentage20000=100*count_wins/N\n",
    "    all_results_20000.append(percentage20000)\n",
    "mean = np.mean(all_results_20000)\n",
    "std = np.std(all_results_20000)\n",
    "print(\"Mean:\",mean)\n",
    "print(\"Std:\", std)\n",
    "plt.hist(all_results_20000)\n",
    "plt.axvline(x = mean,color = \"k\",label = \"mean\")\n",
    "plt.axvline(x = mean+(1.96*std),color = \"purple\",label = \"upperbound\")\n",
    "plt.axvline(x = mean-(1.96*std),color = \"red\",label = \"lowerbound\")\n",
    "plt.legend()\n",
    "print(\"95% of the time, values will fall within:\",mean-(1.96*std),\"and\", mean+(1.96*std))"
   ]
  },
  {
   "cell_type": "markdown",
   "metadata": {},
   "source": [
    "---"
   ]
  },
  {
   "cell_type": "markdown",
   "metadata": {},
   "source": [
    "# Question 4"
   ]
  },
  {
   "cell_type": "code",
   "execution_count": 20,
   "metadata": {},
   "outputs": [],
   "source": [
    "def game4(choice):\n",
    "    total = 0\n",
    "    a = [1,2]\n",
    "    prob_1 = [.1,.9]\n",
    "    prob_2 = [.7,.3]\n",
    "    coin1 = np.random.choice(a,p=prob_1)\n",
    "    coin2 = np.random.choice(a,p=prob_2)\n",
    "   \n",
    "    if choice == 1: \n",
    "        if coin1 == coin2: #if coin1 is equal to coin 2\n",
    "            total = 1.8\n",
    "            \n",
    "    elif choice ==2:\n",
    "        if coin1 != coin2: #if coin1 does not equal to coin 2\n",
    "            total = 1.9\n",
    "   \n",
    "    return total"
   ]
  },
  {
   "cell_type": "code",
   "execution_count": 21,
   "metadata": {},
   "outputs": [
    {
     "name": "stdout",
     "output_type": "stream",
     "text": [
      "-4.128000000006214\n"
     ]
    }
   ],
   "source": [
    "N = 10000\n",
    "total = 0\n",
    "for i in range(N):\n",
    "    result = game4(np.random.randint(1,3))\n",
    "    total = total + result\n",
    "gainpercentage = ((total - N)/(N))*100\n",
    "print(gainpercentage)"
   ]
  },
  {
   "cell_type": "markdown",
   "metadata": {},
   "source": [
    "---"
   ]
  },
  {
   "cell_type": "markdown",
   "metadata": {},
   "source": [
    "# Question 5"
   ]
  },
  {
   "cell_type": "code",
   "execution_count": 22,
   "metadata": {},
   "outputs": [],
   "source": [
    "# the bar dice game\n",
    "def bar_dice_game(strategy):\n",
    "    # keeping track required three elements\n",
    "    have_ship = False\n",
    "    have_captain = False\n",
    "    have_crew = False\n",
    "    \n",
    "    remaining_dice = [] # will keep which two dice is left after the required three is satisfied\n",
    "    for i in range(3):\n",
    "        required_elems = int(have_ship) + int(have_captain) + int (have_crew) # int will turn False to 0, and True to 1\n",
    "\n",
    "        if required_elems == 3: # means, we have all required three elements\n",
    "            # implement two more strategy here\n",
    "            if strategy == 1: # Strategy 1: accept as is\n",
    "                return sum(remaining_dice)\n",
    "            elif strategy == 2: # Strategy 2: rerolling one time\n",
    "                remaining_dice = np.random.choice([1,2,3,4,5,6],size = 2)\n",
    "                return sum(remaining_dice)\n",
    "            elif strategy == 3: # Strategy 3: rerolling two times \n",
    "                for i in range(2):\n",
    "                    remaining_dice = np.random.choice([1,2,3,4,5,6],size = 2)\n",
    "                return sum(remaining_dice)\n",
    "        else:\n",
    "            # if we are here, it means not all three required elements are satisfied\n",
    "            dice = np.random.choice([1,2,3,4,5,6],size=5-required_elems)\n",
    "            remaining_dice = list(dice) # initially, rolled dice is equal to remaining dice\n",
    "            \n",
    "            # if we don't have ship and have at least one of the dice=6\n",
    "            if have_ship == False and (dice == 6).sum() > 0: \n",
    "                have_ship = True # we mark that we have a ship now\n",
    "                remaining_dice.remove(6) # removes the first occurance of 6\n",
    "\n",
    "            # if we have ship, don't have captain but have at least one of the dice=5\n",
    "            if have_ship == True and have_captain == False and (dice == 5).sum() > 0: \n",
    "                have_captain = True # we mark that we have a captain now\n",
    "                remaining_dice.remove(5) # removes the first occurance of 5\n",
    "\n",
    "            # if we have ship and captain, don't have crew but have at least one of the dice=4\n",
    "            if have_ship == True and have_captain == True and have_crew == False and (dice == 4).sum() > 0:\n",
    "                have_crew = True # we mark that we have the crew now\n",
    "                remaining_dice.remove(4) # removes the first occurance of 4\n",
    "    \n",
    "    # this is a safety check looking for the case where we have all required elements satisfied but forgot to return the rest of the remaining dice\n",
    "    required_elems = int(have_ship) + int(have_captain) + int (have_crew)\n",
    "    if required_elems == 3:\n",
    "        return sum(remaining_dice)\n",
    "    \n",
    "    # if not everything is satisfied, we return 0.\n",
    "    return 0"
   ]
  },
  {
   "cell_type": "code",
   "execution_count": 23,
   "metadata": {},
   "outputs": [
    {
     "name": "stdout",
     "output_type": "stream",
     "text": [
      "Strategy 1 scored 34525 total points.\n",
      "Strategy 2 scored 37226 total points.\n",
      "Strategy 3 scored 36952 total points.\n"
     ]
    }
   ],
   "source": [
    "for k in range(1,4):\n",
    "    total = 0\n",
    "    for i in range(10000):\n",
    "        score = bar_dice_game(k)\n",
    "        total = total + score\n",
    "    print(\"Strategy\",k,\"scored\",total,\"total points.\")"
   ]
  },
  {
   "cell_type": "code",
   "execution_count": null,
   "metadata": {},
   "outputs": [],
   "source": []
  }
 ],
 "metadata": {
  "kernelspec": {
   "display_name": "Python 3",
   "language": "python",
   "name": "python3"
  },
  "language_info": {
   "codemirror_mode": {
    "name": "ipython",
    "version": 3
   },
   "file_extension": ".py",
   "mimetype": "text/x-python",
   "name": "python",
   "nbconvert_exporter": "python",
   "pygments_lexer": "ipython3",
   "version": "3.7.7"
  }
 },
 "nbformat": 4,
 "nbformat_minor": 4
}
