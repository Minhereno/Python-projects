{
  "nbformat": 4,
  "nbformat_minor": 0,
  "metadata": {
    "kernelspec": {
      "display_name": "Python 3",
      "language": "python",
      "name": "python3"
    },
    "language_info": {
      "codemirror_mode": {
        "name": "ipython",
        "version": 3
      },
      "file_extension": ".py",
      "mimetype": "text/x-python",
      "name": "python",
      "nbconvert_exporter": "python",
      "pygments_lexer": "ipython3",
      "version": "3.7.7"
    },
    "colab": {
      "name": "MonteExamples.ipynb",
      "provenance": []
    }
  },
  "cells": [
    {
      "cell_type": "code",
      "metadata": {
        "id": "YDKMDVDgr0NV"
      },
      "source": [
        "import numpy as np\n",
        "import matplotlib.pyplot as plt"
      ],
      "execution_count": 1,
      "outputs": []
    },
    {
      "cell_type": "markdown",
      "metadata": {
        "id": "a-XyB5hkr0NY"
      },
      "source": [
        "# Monty Hall Problem\n",
        "\n"
      ]
    },
    {
      "cell_type": "code",
      "metadata": {
        "id": "xWWjLElGr0NZ",
        "outputId": "aa125406-356e-4274-be47-d16198b070b6",
        "colab": {
          "base_uri": "https://localhost:8080/"
        }
      },
      "source": [
        "#identify door with prize\n",
        "doors = [1,2,3]\n",
        "prize = np.random.choice(doors)\n",
        "print(\"The door with prize is door:\", prize)"
      ],
      "execution_count": 2,
      "outputs": [
        {
          "output_type": "stream",
          "name": "stdout",
          "text": [
            "The door with prize is door: 3\n"
          ]
        }
      ]
    },
    {
      "cell_type": "code",
      "metadata": {
        "id": "hiN2whA7r0NZ",
        "outputId": "41e72bb0-8906-4f46-b793-205fe7ac0ad3",
        "colab": {
          "base_uri": "https://localhost:8080/"
        }
      },
      "source": [
        "#making choice\n",
        "our_choice = np.random.choice(doors)\n",
        "print(\"Our choice is door:\",our_choice)"
      ],
      "execution_count": 3,
      "outputs": [
        {
          "output_type": "stream",
          "name": "stdout",
          "text": [
            "Our choice is door: 2\n"
          ]
        }
      ]
    },
    {
      "cell_type": "code",
      "metadata": {
        "id": "5F5lCvvfr0Na",
        "outputId": "ad418286-de63-493f-b75f-67d12f1782c2",
        "colab": {
          "base_uri": "https://localhost:8080/"
        }
      },
      "source": [
        "#eliminate one door\n",
        "doorswithnoprizeandnotchosen = set(doors) - set((our_choice,prize))\n",
        "print(doorswithnoprizeandnotchosen)"
      ],
      "execution_count": 4,
      "outputs": [
        {
          "output_type": "stream",
          "name": "stdout",
          "text": [
            "{1}\n"
          ]
        }
      ]
    },
    {
      "cell_type": "code",
      "metadata": {
        "id": "G4HMfMBNr0Na",
        "outputId": "027ecfc5-59e4-4698-aced-9fa0a6a3a15d",
        "colab": {
          "base_uri": "https://localhost:8080/"
        }
      },
      "source": [
        "opened_door = np.random.choice(list(doorswithnoprizeandnotchosen))\n",
        "print(opened_door)"
      ],
      "execution_count": 5,
      "outputs": [
        {
          "output_type": "stream",
          "name": "stdout",
          "text": [
            "1\n"
          ]
        }
      ]
    },
    {
      "cell_type": "code",
      "metadata": {
        "id": "TbZC11wrr0Nb",
        "outputId": "04ea1b3a-68ad-4189-ee52-8ff0e15a9fbb",
        "colab": {
          "base_uri": "https://localhost:8080/"
        }
      },
      "source": [
        "#stick with current choice\n",
        "if prize == our_choice:\n",
        "    print(\"You won!\")\n",
        "else:\n",
        "    print(\"You lost\")"
      ],
      "execution_count": 6,
      "outputs": [
        {
          "output_type": "stream",
          "name": "stdout",
          "text": [
            "You lost\n"
          ]
        }
      ]
    },
    {
      "cell_type": "code",
      "metadata": {
        "id": "lorly9dor0Nb",
        "outputId": "253ea949-d2dc-4b9a-b1cf-338fbfe0008a",
        "colab": {
          "base_uri": "https://localhost:8080/"
        }
      },
      "source": [
        "new_choice = set(doors) - set((opened_door,our_choice))\n",
        "new_choice_int = list(new_choice)\n",
        "print(new_choice_int)\n",
        "if new_choice_int == prize:\n",
        "    print(\"You won!\")\n",
        "else:\n",
        "    print(\"You lost\")"
      ],
      "execution_count": 7,
      "outputs": [
        {
          "output_type": "stream",
          "name": "stdout",
          "text": [
            "[3]\n",
            "You won!\n"
          ]
        }
      ]
    },
    {
      "cell_type": "markdown",
      "metadata": {
        "id": "Na3TDIw3r0Nc"
      },
      "source": [
        "# Compact Version of Monty Hall"
      ]
    },
    {
      "cell_type": "code",
      "metadata": {
        "id": "Q1T3IGxxr0Nc"
      },
      "source": [
        "def monty_hall(strategy):\n",
        "    doors = [1,2,3]\n",
        "    prize = np.random.choice(doors)\n",
        "    our_choice = np.random.choice(doors)\n",
        "    doorswithnoprizeandnotchosen = set(doors) - set((our_choice,prize))\n",
        "    opened_door = np.random.choice(list(doorswithnoprizeandnotchosen))\n",
        "    \n",
        "    if strategy == 1:\n",
        "        if prize == our_choice:\n",
        "            return True\n",
        "        else:\n",
        "            return False\n",
        "    else:\n",
        "        new_choice = set(doors) - set((opened_door,our_choice))\n",
        "        new_choice_int = list(new_choice)\n",
        "        if new_choice_int == prize:\n",
        "            return True\n",
        "        else:\n",
        "            return False    "
      ],
      "execution_count": 8,
      "outputs": []
    },
    {
      "cell_type": "code",
      "metadata": {
        "id": "MhhQzyr-r0Nd",
        "outputId": "3e507914-4b2b-49d7-e0ee-6530aba909d8",
        "colab": {
          "base_uri": "https://localhost:8080/"
        }
      },
      "source": [
        "N = 10\n",
        "for j in range(10):\n",
        "    count_wins = 0\n",
        "    for i in range(N):\n",
        "        result = monty_hall(1)\n",
        "        if result == True:\n",
        "            count_wins = count_wins + 1\n",
        "print(\"Ratio:\", (count_wins/N))\n",
        "print(\"Percent:\", 100*(count_wins/N),\"%\")\n",
        "    \n",
        "    "
      ],
      "execution_count": 9,
      "outputs": [
        {
          "output_type": "stream",
          "name": "stdout",
          "text": [
            "Ratio: 0.2\n",
            "Percent: 20.0 %\n"
          ]
        }
      ]
    },
    {
      "cell_type": "code",
      "metadata": {
        "id": "mOh7djbjr0Nd",
        "outputId": "ab936755-b443-4f2d-fd72-e0be8dfb5c55",
        "colab": {
          "base_uri": "https://localhost:8080/"
        }
      },
      "source": [
        "N = 100\n",
        "results = []\n",
        "for j in range(100):\n",
        "    np.random.seed(j)\n",
        "    count_Lose = 0\n",
        "    for i in range(N):\n",
        "        result = monty_hall(2)\n",
        "        if result == False:\n",
        "            count_Lose = count_Lose + 1\n",
        "    estimated = count_Lose/N\n",
        "    results.append(estimated)\n",
        "print(\"Ratio:\", (estimated))\n",
        "print(\"Percent:\", 100*(estimated),\"%\")\n"
      ],
      "execution_count": 10,
      "outputs": [
        {
          "output_type": "stream",
          "name": "stdout",
          "text": [
            "Ratio: 0.39\n",
            "Percent: 39.0 %\n"
          ]
        }
      ]
    },
    {
      "cell_type": "code",
      "metadata": {
        "id": "s7r8qNpZr0Ne"
      },
      "source": [
        "mean = np.mean(results)"
      ],
      "execution_count": 11,
      "outputs": []
    },
    {
      "cell_type": "code",
      "metadata": {
        "id": "PAqNsIO0r0Ne"
      },
      "source": [
        "std = np.std(results)"
      ],
      "execution_count": 12,
      "outputs": []
    },
    {
      "cell_type": "code",
      "metadata": {
        "id": "rrs5X6x4r0Ne",
        "outputId": "8ed606d2-2d2d-46f8-dddb-3d159f29176b",
        "colab": {
          "base_uri": "https://localhost:8080/",
          "height": 285
        }
      },
      "source": [
        "plt.hist(results)\n",
        "plt.axvline(x = mean,color = \"k\",label = \"mean\")\n",
        "plt.axvline(x = mean+(1.96*std),color = \"purple\",label = \"upper\")\n",
        "plt.axvline(x = mean-(1.96*std),color = \"red\",label = \"lower\")\n",
        "plt.legend()"
      ],
      "execution_count": 13,
      "outputs": [
        {
          "output_type": "execute_result",
          "data": {
            "text/plain": [
              "<matplotlib.legend.Legend at 0x7fe0961cea90>"
            ]
          },
          "metadata": {},
          "execution_count": 13
        },
        {
          "output_type": "display_data",
          "data": {
            "text/plain": [
              "<Figure size 432x288 with 1 Axes>"
            ],
            "image/png": "[encoded data removed]"
          },
          "metadata": {
            "needs_background": "light"
          }
        }
      ]
    },
    {
      "cell_type": "code",
      "metadata": {
        "id": "vDbmVSW0r0Ne"
      },
      "source": [
        ""
      ],
      "execution_count": 13,
      "outputs": []
    }
  ]
}