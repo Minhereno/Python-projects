{
 "cells": [
  {
   "cell_type": "markdown",
   "metadata": {},
   "source": [
    "- # CDS 230 - Modeling and Simulation 1 - Fall 2019\n",
    "- # Final\n",
    "- Minh Tran\n",
    "- December 16, 2019 @ 11:59 p.m."
   ]
  },
  {
   "cell_type": "code",
   "execution_count": 1,
   "metadata": {},
   "outputs": [],
   "source": [
    "#imported packages\n",
    "import numpy as np\n",
    "import matplotlib.pyplot as plt\n",
    "import scipy.integrate as sci"
   ]
  },
  {
   "cell_type": "markdown",
   "metadata": {},
   "source": [
    "---"
   ]
  },
  {
   "cell_type": "markdown",
   "metadata": {},
   "source": [
    "# Question 1"
   ]
  },
  {
   "cell_type": "code",
   "execution_count": 2,
   "metadata": {},
   "outputs": [
    {
     "name": "stdout",
     "output_type": "stream",
     "text": [
      "*********\n",
      "*******\n",
      "*****\n",
      "***\n",
      "*\n",
      "*\n",
      "***\n",
      "*****\n",
      "*******\n",
      "*********\n"
     ]
    }
   ],
   "source": [
    "def sw(num):\n",
    "    character_to_print = (\"*\")\n",
    "    if num % 2 == 0 or num < 3 :\n",
    "        print(\"Enter an odd number greater than or equal to 3.\")\n",
    "    else:\n",
    "        for i in range(num,0,-2): \n",
    "            for j in range(0,i): #printing every step\n",
    "                print(end = character_to_print) #Applying char_to_print(\"*\") to end\n",
    "            print()\n",
    "   \n",
    "        for i in range(1,num+1,2): \n",
    "            for j in range(0,i): #printing every step\n",
    "                print(end = character_to_print) #Applying char_to_print(\"*\") to end\n",
    "            print()         \n",
    "sw(9)"
   ]
  },
  {
   "cell_type": "markdown",
   "metadata": {},
   "source": [
    "---"
   ]
  },
  {
   "cell_type": "markdown",
   "metadata": {},
   "source": [
    "# Question 2"
   ]
  },
  {
   "cell_type": "code",
   "execution_count": 18,
   "metadata": {},
   "outputs": [],
   "source": [
    "def f(n,m):\n",
    "    result = []\n",
    "    for i in range(n):\n",
    "        for j in range(m):\n",
    "            a = i+j\n",
    "            b = np.prod(a)\n",
    "            c = i*b\n",
    "            result.append(c)\n",
    "    print(np.sum(result))            "
   ]
  },
  {
   "cell_type": "code",
   "execution_count": 12,
   "metadata": {},
   "outputs": [
    {
     "name": "stdout",
     "output_type": "stream",
     "text": [
      "210\n"
     ]
    }
   ],
   "source": [
    "f(6,3)"
   ]
  },
  {
   "cell_type": "code",
   "execution_count": 13,
   "metadata": {},
   "outputs": [
    {
     "name": "stdout",
     "output_type": "stream",
     "text": [
      "3\n"
     ]
    }
   ],
   "source": [
    "f(2,2)"
   ]
  },
  {
   "cell_type": "code",
   "execution_count": 14,
   "metadata": {},
   "outputs": [
    {
     "name": "stdout",
     "output_type": "stream",
     "text": [
      "185\n"
     ]
    }
   ],
   "source": [
    "f(3,10)"
   ]
  },
  {
   "cell_type": "code",
   "execution_count": 15,
   "metadata": {},
   "outputs": [
    {
     "name": "stdout",
     "output_type": "stream",
     "text": [
      "999900\n"
     ]
    }
   ],
   "source": [
    "f(100,3)"
   ]
  },
  {
   "cell_type": "markdown",
   "metadata": {},
   "source": [
    "---"
   ]
  },
  {
   "cell_type": "markdown",
   "metadata": {},
   "source": [
    "# Question 3"
   ]
  },
  {
   "cell_type": "code",
   "execution_count": 8,
   "metadata": {},
   "outputs": [],
   "source": [
    "def bmi(weight,height):\n",
    "    BMI = (weight)/(height**2)\n",
    "    if BMI < 18.6:\n",
    "        print(\"Underweight\")\n",
    "    elif 18.6 <= BMI <= 24:\n",
    "        print(\"Normal Weight\")\n",
    "    elif 25 <= BMI <= 29:\n",
    "        print(\"Overweight\")\n",
    "    elif 30 <= BMI <= 34:\n",
    "        print(\"Obesity(Class1)\")\n",
    "    elif 35 <= BMI <= 40:\n",
    "        print(\"Obesity(Class2)\")\n",
    "    elif BMI >= 41:\n",
    "        print(\"Obesity(Class3)\")"
   ]
  },
  {
   "cell_type": "markdown",
   "metadata": {},
   "source": [
    "---"
   ]
  },
  {
   "cell_type": "markdown",
   "metadata": {},
   "source": [
    "# Question 4"
   ]
  },
  {
   "cell_type": "code",
   "execution_count": 9,
   "metadata": {},
   "outputs": [
    {
     "data": {
      "text/plain": [
       "Text(0, 0.5, 'f(x)-5g(x)')"
      ]
     },
     "execution_count": 9,
     "metadata": {},
     "output_type": "execute_result"
    },
    {
     "data": {
      "image/png": "[encoded data removed]",
      "text/plain": [
       "<Figure size 432x288 with 1 Axes>"
      ]
     },
     "metadata": {
      "needs_background": "light"
     },
     "output_type": "display_data"
    }
   ],
   "source": [
    "N = np.arange(0,5,.1)\n",
    "values = []\n",
    "for x in N:\n",
    "    fx = 2*(x**2)\n",
    "    gx = np.sqrt((x**3)+(x**2)+1)\n",
    "    value = fx-(5*gx)\n",
    "    values.append(value)\n",
    "    np.array(values)\n",
    "plt.plot(N,values)\n",
    "plt.xlabel(\"x\")\n",
    "plt.ylabel(\"f(x)-5g(x)\")"
   ]
  },
  {
   "cell_type": "markdown",
   "metadata": {},
   "source": [
    "---"
   ]
  },
  {
   "cell_type": "markdown",
   "metadata": {},
   "source": [
    "# Question 5"
   ]
  },
  {
   "cell_type": "code",
   "execution_count": 10,
   "metadata": {},
   "outputs": [
    {
     "name": "stdout",
     "output_type": "stream",
     "text": [
      "User Prediction: 50\n",
      "Select a higher value\n",
      "User Prediction: 75\n",
      "Select a lower number\n",
      "User Prediction: 63\n",
      "Select a lower number\n",
      "User Prediction: 57\n",
      "Select a higher value\n",
      "User Prediction: 60\n",
      "Select a higher value\n",
      "User Prediction: 62\n",
      "Well done!\n",
      "Number of trials:  6\n"
     ]
    }
   ],
   "source": [
    "number_to_predict = np.random.randint(1,101)\n",
    "counter = 0\n",
    "minimum = 1\n",
    "maximum = 100\n",
    "user_prediction = -1\n",
    "\n",
    "while number_to_predict != user_prediction:\n",
    "    \n",
    "    user_prediction = int(np.mean((minimum,maximum))) #average of min and max\n",
    "    print(\"User Prediction:\",user_prediction)\n",
    "    counter = counter + 1\n",
    "   \n",
    "    if user_prediction == number_to_predict:\n",
    "        print(\"Well done!\")\n",
    "    elif user_prediction > number_to_predict:\n",
    "        maximum = user_prediction # if guessed number is greater than number to predict, the guessed number will be the new maximum\n",
    "        print(\"Select a lower number\")\n",
    "    else:\n",
    "        minimum = user_prediction + 1 # if guessed number is less than number to predict, the guessed number will be the new minimum\n",
    "        print(\"Select a higher value\")\n",
    "\n",
    "print(\"Number of trials: \", counter)"
   ]
  },
  {
   "cell_type": "markdown",
   "metadata": {},
   "source": [
    "---"
   ]
  },
  {
   "cell_type": "markdown",
   "metadata": {},
   "source": [
    "# Question 6"
   ]
  },
  {
   "cell_type": "code",
   "execution_count": 11,
   "metadata": {},
   "outputs": [
    {
     "name": "stdout",
     "output_type": "stream",
     "text": [
      "User Prediction: 10\n",
      "Select a lower number\n",
      "User Prediction: 9\n",
      "Select a lower number\n",
      "User Prediction: 6\n",
      "Select a lower number\n",
      "User Prediction: 5\n",
      "Well done!\n",
      "Number of trials:  4\n"
     ]
    }
   ],
   "source": [
    "number_to_predict = np.random.randint(1,101)\n",
    "counter = 0\n",
    "minimum = 1\n",
    "maximum = 101\n",
    "user_prediction = -1\n",
    "\n",
    "while number_to_predict != user_prediction:\n",
    "    \n",
    "    user_prediction = np.random.randint(minimum,maximum) # random integer between minimum and maxumum\n",
    "    print(\"User Prediction:\",user_prediction)\n",
    "    counter = counter + 1\n",
    "   \n",
    "    if user_prediction == number_to_predict:\n",
    "        print(\"Well done!\")\n",
    "    elif user_prediction > number_to_predict:\n",
    "        maximum = user_prediction  # if guessed number is greater than number to predict, the guessed number will be the new maximum\n",
    "        print(\"Select a lower number\")\n",
    "    else:\n",
    "        minimum = user_prediction # if guessed number is less than number to predict, the guessed number will be the new minimum \n",
    "        print(\"Select a higher value\")\n",
    "\n",
    "print(\"Number of trials: \", counter)"
   ]
  },
  {
   "cell_type": "markdown",
   "metadata": {},
   "source": [
    "--- "
   ]
  },
  {
   "cell_type": "markdown",
   "metadata": {},
   "source": [
    "# Question 7"
   ]
  },
  {
   "cell_type": "code",
   "execution_count": 12,
   "metadata": {},
   "outputs": [],
   "source": [
    "def question5():\n",
    "    number_to_predict = np.random.randint(1,101)\n",
    "    counter = 0\n",
    "    minimum = 1\n",
    "    maximum = 100\n",
    "    user_prediction = -1 \n",
    "    while number_to_predict != user_prediction:\n",
    "    \n",
    "        user_prediction = int(np.mean((minimum,maximum)))\n",
    "        \n",
    "        counter = counter + 1\n",
    "   \n",
    "        if user_prediction == number_to_predict:\n",
    "            user_prediction = number_to_predict\n",
    "           \n",
    "        elif user_prediction > number_to_predict:\n",
    "            maximum = user_prediction\n",
    "        else:\n",
    "            minimum = user_prediction + 1\n",
    "    return counter     "
   ]
  },
  {
   "cell_type": "code",
   "execution_count": 13,
   "metadata": {},
   "outputs": [],
   "source": [
    "def question6():\n",
    "    number_to_predict = np.random.randint(1,101)\n",
    "    counter = 0\n",
    "    minimum = 1\n",
    "    maximum = 101\n",
    "    user_prediction = -1\n",
    "    while number_to_predict != user_prediction:\n",
    "    \n",
    "        user_prediction = np.random.randint(minimum,maximum) # random integer between minimum and maxumum\n",
    "        counter = counter + 1\n",
    "       \n",
    "        if user_prediction == number_to_predict:\n",
    "            user_prediction = number_to_predict\n",
    "        elif user_prediction > number_to_predict:\n",
    "            maximum = user_prediction  # if guessed number is greater than number to predict, the guessed number will be the ncountermaximum\n",
    "            \n",
    "        else:\n",
    "            minimum = user_prediction # if guessed number is less than number to predict, the guessed number will be the new minimum \n",
    "    return counter        "
   ]
  },
  {
   "cell_type": "markdown",
   "metadata": {},
   "source": [
    "### Mean of strategy question 5"
   ]
  },
  {
   "cell_type": "code",
   "execution_count": 14,
   "metadata": {},
   "outputs": [
    {
     "data": {
      "text/plain": [
       "5.79562"
      ]
     },
     "execution_count": 14,
     "metadata": {},
     "output_type": "execute_result"
    }
   ],
   "source": [
    "results_question5 = []\n",
    "for i in range(50000):\n",
    "    result = question5()\n",
    "    results_question5.append(result) \n",
    "np.mean(results_question5)"
   ]
  },
  {
   "cell_type": "markdown",
   "metadata": {},
   "source": [
    "### Mean of strategy question 6"
   ]
  },
  {
   "cell_type": "code",
   "execution_count": 15,
   "metadata": {},
   "outputs": [
    {
     "data": {
      "text/plain": [
       "8.3909"
      ]
     },
     "execution_count": 15,
     "metadata": {},
     "output_type": "execute_result"
    }
   ],
   "source": [
    "results_question6 = []\n",
    "for i in range(50000):\n",
    "    result = question6()\n",
    "    results_question6.append(result) \n",
    "np.mean(results_question6)"
   ]
  },
  {
   "cell_type": "markdown",
   "metadata": {},
   "source": [
    "Strategy in question 5 worked better"
   ]
  },
  {
   "cell_type": "markdown",
   "metadata": {},
   "source": [
    "---"
   ]
  },
  {
   "cell_type": "markdown",
   "metadata": {},
   "source": [
    "# Question 8"
   ]
  },
  {
   "cell_type": "markdown",
   "metadata": {},
   "source": [
    "## Population 1"
   ]
  },
  {
   "cell_type": "code",
   "execution_count": 16,
   "metadata": {},
   "outputs": [],
   "source": [
    "def dp_dt(p,t,k):\n",
    "    return k*(1-(p/pmax))*p"
   ]
  },
  {
   "cell_type": "code",
   "execution_count": 17,
   "metadata": {},
   "outputs": [],
   "source": [
    "p0 = 5000 #initial population\n",
    "k = 0.19 #growth rate\n",
    "pmax = 100000\n",
    "t = np.linspace(0,10,1000)\n",
    "res = sci.odeint(dp_dt,p0,t,args = (k,))"
   ]
  },
  {
   "cell_type": "markdown",
   "metadata": {},
   "source": [
    "## Population 2"
   ]
  },
  {
   "cell_type": "code",
   "execution_count": 18,
   "metadata": {},
   "outputs": [],
   "source": [
    "p0 = 9000 #initial population\n",
    "k = 0.09 #growth rate\n",
    "pmax = 100000\n",
    "t = np.linspace(0,10,1000)\n",
    "res2 = sci.odeint(dp_dt,p0,t,args = (k,))"
   ]
  },
  {
   "cell_type": "code",
   "execution_count": 19,
   "metadata": {},
   "outputs": [
    {
     "data": {
      "text/plain": [
       "<matplotlib.legend.Legend at 0x15175ec090>"
      ]
     },
     "execution_count": 19,
     "metadata": {},
     "output_type": "execute_result"
    },
    {
     "data": {
      "image/png": "[encoded data removed]",
      "text/plain": [
       "<Figure size 432x288 with 1 Axes>"
      ]
     },
     "metadata": {
      "needs_background": "light"
     },
     "output_type": "display_data"
    }
   ],
   "source": [
    "plt.plot(t,res[:,0],color = \"red\",label = \"ODE Population1\")# plotting\n",
    "plt.plot(t,res2[:,0],color = \"blue\",label = \"ODE Population2\")# plotting\n",
    "plt.title(\"Question 8\")\n",
    "plt.xlabel(\"Time\")\n",
    "plt.ylabel(\"Population\")\n",
    "plt.legend()"
   ]
  },
  {
   "cell_type": "markdown",
   "metadata": {},
   "source": [
    "# Closed Form"
   ]
  },
  {
   "cell_type": "markdown",
   "metadata": {},
   "source": [
    "## Verification for Population 1"
   ]
  },
  {
   "cell_type": "code",
   "execution_count": 20,
   "metadata": {},
   "outputs": [],
   "source": [
    "p0 = 5000 #initial population\n",
    "k = 0.19 #growth rate\n",
    "pmax = 100000\n",
    "t = np.linspace(0,10,1000)\n",
    "res = sci.odeint(dp_dt,p0,t,args = (k,))"
   ]
  },
  {
   "cell_type": "code",
   "execution_count": 21,
   "metadata": {},
   "outputs": [],
   "source": [
    "closed_form = p0*(pmax/(p0+(pmax-p0)*np.exp(-k*t)))"
   ]
  },
  {
   "cell_type": "code",
   "execution_count": 22,
   "metadata": {},
   "outputs": [
    {
     "data": {
      "text/plain": [
       "<matplotlib.legend.Legend at 0x151774c310>"
      ]
     },
     "execution_count": 22,
     "metadata": {},
     "output_type": "execute_result"
    },
    {
     "data": {
      "image/png": "[encoded data removed]",
      "text/plain": [
       "<Figure size 432x288 with 1 Axes>"
      ]
     },
     "metadata": {
      "needs_background": "light"
     },
     "output_type": "display_data"
    }
   ],
   "source": [
    "plt.plot(t,res[:,0],color = \"red\",label = \"ODE\")\n",
    "plt.scatter(t,closed_form,color = \"blue\",label = \"closed form\")\n",
    "plt.xlabel(\"Time\")\n",
    "plt.ylabel(\"Population\")\n",
    "plt.title(\"Population 1 Verification\")\n",
    "plt.legend()"
   ]
  },
  {
   "cell_type": "markdown",
   "metadata": {},
   "source": [
    "## Verification for population 2"
   ]
  },
  {
   "cell_type": "code",
   "execution_count": 23,
   "metadata": {},
   "outputs": [],
   "source": [
    "p0 = 9000 #initial population\n",
    "k = 0.09 #growth rate\n",
    "pmax = 100000\n",
    "t = np.linspace(0,10,1000)\n",
    "res2 = sci.odeint(dp_dt,p0,t,args = (k,))"
   ]
  },
  {
   "cell_type": "code",
   "execution_count": 24,
   "metadata": {},
   "outputs": [],
   "source": [
    "closed_form = p0*(pmax/(p0+(pmax-p0)*np.exp(-k*t)))"
   ]
  },
  {
   "cell_type": "code",
   "execution_count": 25,
   "metadata": {},
   "outputs": [
    {
     "data": {
      "text/plain": [
       "<matplotlib.legend.Legend at 0x1517836590>"
      ]
     },
     "execution_count": 25,
     "metadata": {},
     "output_type": "execute_result"
    },
    {
     "data": {
      "image/png": "[encoded data removed]",
      "text/plain": [
       "<Figure size 432x288 with 1 Axes>"
      ]
     },
     "metadata": {
      "needs_background": "light"
     },
     "output_type": "display_data"
    }
   ],
   "source": [
    "plt.plot(t,res2[:,0],color = \"red\",label = \"ODE\")\n",
    "plt.scatter(t,closed_form,color = \"blue\",label = \"closed form\")\n",
    "plt.xlabel(\"Time\")\n",
    "plt.ylabel(\"Population\")\n",
    "plt.title(\"Population 2 Verification\")\n",
    "plt.legend()"
   ]
  },
  {
   "cell_type": "code",
   "execution_count": null,
   "metadata": {},
   "outputs": [],
   "source": []
  }
 ],
 "metadata": {
  "kernelspec": {
   "display_name": "Python 3",
   "language": "python",
   "name": "python3"
  },
  "language_info": {
   "codemirror_mode": {
    "name": "ipython",
    "version": 3
   },
   "file_extension": ".py",
   "mimetype": "text/x-python",
   "name": "python",
   "nbconvert_exporter": "python",
   "pygments_lexer": "ipython3",
   "version": "3.7.7"
  }
 },
 "nbformat": 4,
 "nbformat_minor": 4
}
